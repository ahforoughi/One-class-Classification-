{
 "cells": [
  {
   "cell_type": "code",
   "execution_count": 71,
   "metadata": {},
   "outputs": [],
   "source": [
    "# import libraries\n",
    "from IPython.display import Image, display\n",
    "import numpy as np\n",
    "import os\n",
    "import tensorflow as tf\n",
    "from os.path import join\n",
    "from PIL import ImageFile\n",
    "import pandas as pd\n",
    "from matplotlib import cm\n",
    "import seaborn as sns\n",
    "from tensorflow.python.keras.models import Sequential\n",
    "from tensorflow.python.keras.layers import Dense, Flatten, GlobalAveragePooling2D\n",
    "from keras.applications.resnet50 import ResNet50\n",
    "from keras.applications.resnet50 import preprocess_input\n",
    "\n",
    "from tensorflow.python.keras.preprocessing.image import ImageDataGenerator\n",
    "# from tensorflow.keras.applications import ResNet50\n",
    "\n",
    "from tensorflow.keras.preprocessing.image import load_img, img_to_array\n",
    "from sklearn.metrics import mean_squared_error, mean_absolute_error, roc_auc_score, classification_report, confusion_matrix\n",
    "import matplotlib.pyplot as plt\n",
    "from sklearn.utils import shuffle\n",
    "from sklearn.model_selection import train_test_split\n",
    "from sklearn.preprocessing import StandardScaler\n",
    "from sklearn.decomposition import PCA\n",
    "from sklearn.ensemble import IsolationForest\n",
    "from sklearn import svm\n",
    "from sklearn.mixture import GaussianMixture\n",
    "from sklearn.isotonic import IsotonicRegression\n",
    "import re\n",
    "\n",
    "ImageFile.LOAD_TRUNCATED_IMAGES = True\n",
    "plt.style.use('fivethirtyeight')\n",
    "%matplotlib inline"
   ]
  },
  {
   "cell_type": "code",
   "execution_count": 50,
   "metadata": {},
   "outputs": [],
   "source": [
    "train_img_dir_n = \"../../dataset/archive/natural_images/teeth\"\n",
    "train_img_paths_n = [join(train_img_dir_n,filename) for filename in os.listdir(train_img_dir_n)]"
   ]
  },
  {
   "cell_type": "code",
   "execution_count": 51,
   "metadata": {},
   "outputs": [
    {
     "data": {
      "text/plain": [
       "247"
      ]
     },
     "execution_count": 51,
     "metadata": {},
     "output_type": "execute_result"
    }
   ],
   "source": [
    "len(train_img_paths_n)"
   ]
  },
  {
   "cell_type": "code",
   "execution_count": 52,
   "metadata": {},
   "outputs": [],
   "source": [
    "# split teeth data into train, test, and val\n",
    "train_img_paths, test_img_paths_teeth = train_test_split(train_img_paths_n, test_size=0.2, random_state=42)\n",
    "train_img_paths, val_img_paths_teeth = train_test_split(train_img_paths, test_size=0.2, random_state=42)"
   ]
  },
  {
   "cell_type": "code",
   "execution_count": 53,
   "metadata": {},
   "outputs": [],
   "source": [
    "#  import ~teeth images\n",
    "natural_images_path = \"../../dataset/archive/natural_images/\"\n",
    "test_img_paths_no_teeth = []\n",
    "# print(os.listdir(\"../../dataset/archive/natural_images\"))\n",
    "\n",
    "for d in [d for d in os.listdir(\"../../dataset/archive/natural_images\") if d not in [\"car\", \"airplane\", \"motorbike\"]]:\n",
    "    test_img_dir_na = natural_images_path + d\n",
    "    test_img_paths_no_teeth.append([join(test_img_dir_na,filename) for filename in os.listdir(test_img_dir_na)])\n",
    "    \n",
    "test_img_paths_no_teeth_flat = [item for sublist in test_img_paths_no_teeth for item in sublist]\n",
    "test_img_paths_no_teeth, val_img_paths_no_teeth = train_test_split(test_img_paths_no_teeth_flat, test_size = 0.2, random_state = 42)"
   ]
  },
  {
   "cell_type": "code",
   "execution_count": 54,
   "metadata": {},
   "outputs": [],
   "source": [
    "def natural_img_dir(image_path):\n",
    "    path_regex = r\"natural_images\\/(\\w*)\"\n",
    "    if 'natural_images' in image_path:\n",
    "        return re.findall(path_regex,image_path,re.MULTILINE)[0].strip()\n",
    "    else:\n",
    "        return 'teeth'"
   ]
  },
  {
   "cell_type": "code",
   "execution_count": 55,
   "metadata": {},
   "outputs": [],
   "source": [
    "# create test dataframe\n",
    "all_test_paths = test_img_paths_teeth + test_img_paths_no_teeth\n",
    "test_path_df = pd.DataFrame({\n",
    "    'path': all_test_paths,\n",
    "    'is_teeth': [1 if path in test_img_paths_teeth else 0 for path in all_test_paths]\n",
    "})\n",
    "test_path_df = shuffle(test_path_df,random_state = 0).reset_index(drop = True)\n",
    "test_path_df['image_type'] = test_path_df['path'].apply(lambda x: natural_img_dir(x))\n",
    "all_test_paths = test_path_df['path'].tolist()"
   ]
  },
  {
   "cell_type": "code",
   "execution_count": 56,
   "metadata": {},
   "outputs": [
    {
     "name": "stdout",
     "output_type": "stream",
     "text": [
      "Distribution of Image Types in Test Set\n",
      "person    816\n",
      "fruit     798\n",
      "cat       703\n",
      "flower    668\n",
      "dog       547\n",
      "teeth     248\n",
      "Name: image_type, dtype: int64\n"
     ]
    },
    {
     "data": {
      "text/html": [
       "<div>\n",
       "<style scoped>\n",
       "    .dataframe tbody tr th:only-of-type {\n",
       "        vertical-align: middle;\n",
       "    }\n",
       "\n",
       "    .dataframe tbody tr th {\n",
       "        vertical-align: top;\n",
       "    }\n",
       "\n",
       "    .dataframe thead th {\n",
       "        text-align: right;\n",
       "    }\n",
       "</style>\n",
       "<table border=\"1\" class=\"dataframe\">\n",
       "  <thead>\n",
       "    <tr style=\"text-align: right;\">\n",
       "      <th></th>\n",
       "      <th>path</th>\n",
       "      <th>is_teeth</th>\n",
       "      <th>image_type</th>\n",
       "    </tr>\n",
       "  </thead>\n",
       "  <tbody>\n",
       "    <tr>\n",
       "      <th>0</th>\n",
       "      <td>../../dataset/archive/natural_images/teeth/Ima...</td>\n",
       "      <td>0</td>\n",
       "      <td>teeth</td>\n",
       "    </tr>\n",
       "    <tr>\n",
       "      <th>1</th>\n",
       "      <td>../../dataset/archive/natural_images/person/pe...</td>\n",
       "      <td>0</td>\n",
       "      <td>person</td>\n",
       "    </tr>\n",
       "    <tr>\n",
       "      <th>2</th>\n",
       "      <td>../../dataset/archive/natural_images/dog/dog_0...</td>\n",
       "      <td>0</td>\n",
       "      <td>dog</td>\n",
       "    </tr>\n",
       "    <tr>\n",
       "      <th>3</th>\n",
       "      <td>../../dataset/archive/natural_images/cat/cat_0...</td>\n",
       "      <td>0</td>\n",
       "      <td>cat</td>\n",
       "    </tr>\n",
       "    <tr>\n",
       "      <th>4</th>\n",
       "      <td>../../dataset/archive/natural_images/teeth/S20...</td>\n",
       "      <td>0</td>\n",
       "      <td>teeth</td>\n",
       "    </tr>\n",
       "    <tr>\n",
       "      <th>...</th>\n",
       "      <td>...</td>\n",
       "      <td>...</td>\n",
       "      <td>...</td>\n",
       "    </tr>\n",
       "    <tr>\n",
       "      <th>3775</th>\n",
       "      <td>../../dataset/archive/natural_images/flower/fl...</td>\n",
       "      <td>0</td>\n",
       "      <td>flower</td>\n",
       "    </tr>\n",
       "    <tr>\n",
       "      <th>3776</th>\n",
       "      <td>../../dataset/archive/natural_images/dog/dog_0...</td>\n",
       "      <td>0</td>\n",
       "      <td>dog</td>\n",
       "    </tr>\n",
       "    <tr>\n",
       "      <th>3777</th>\n",
       "      <td>../../dataset/archive/natural_images/fruit/fru...</td>\n",
       "      <td>0</td>\n",
       "      <td>fruit</td>\n",
       "    </tr>\n",
       "    <tr>\n",
       "      <th>3778</th>\n",
       "      <td>../../dataset/archive/natural_images/fruit/fru...</td>\n",
       "      <td>0</td>\n",
       "      <td>fruit</td>\n",
       "    </tr>\n",
       "    <tr>\n",
       "      <th>3779</th>\n",
       "      <td>../../dataset/archive/natural_images/person/pe...</td>\n",
       "      <td>0</td>\n",
       "      <td>person</td>\n",
       "    </tr>\n",
       "  </tbody>\n",
       "</table>\n",
       "<p>3780 rows × 3 columns</p>\n",
       "</div>"
      ],
      "text/plain": [
       "                                                   path  is_teeth image_type\n",
       "0     ../../dataset/archive/natural_images/teeth/Ima...         0      teeth\n",
       "1     ../../dataset/archive/natural_images/person/pe...         0     person\n",
       "2     ../../dataset/archive/natural_images/dog/dog_0...         0        dog\n",
       "3     ../../dataset/archive/natural_images/cat/cat_0...         0        cat\n",
       "4     ../../dataset/archive/natural_images/teeth/S20...         0      teeth\n",
       "...                                                 ...       ...        ...\n",
       "3775  ../../dataset/archive/natural_images/flower/fl...         0     flower\n",
       "3776  ../../dataset/archive/natural_images/dog/dog_0...         0        dog\n",
       "3777  ../../dataset/archive/natural_images/fruit/fru...         0      fruit\n",
       "3778  ../../dataset/archive/natural_images/fruit/fru...         0      fruit\n",
       "3779  ../../dataset/archive/natural_images/person/pe...         0     person\n",
       "\n",
       "[3780 rows x 3 columns]"
      ]
     },
     "execution_count": 56,
     "metadata": {},
     "output_type": "execute_result"
    }
   ],
   "source": [
    "print('Distribution of Image Types in Test Set')\n",
    "print(test_path_df['image_type'].value_counts())\n",
    "test_path_df\n"
   ]
  },
  {
   "cell_type": "code",
   "execution_count": 59,
   "metadata": {},
   "outputs": [],
   "source": [
    "# create val dataframe\n",
    "all_val_paths = val_img_paths_teeth + val_img_paths_no_teeth\n",
    "val_path_df = pd.DataFrame({\n",
    "    'path': all_val_paths,\n",
    "    'is_teeth': [1 if path in val_img_paths_teeth else 0 for path in all_val_paths]\n",
    "})\n",
    "val_path_df = shuffle(val_path_df,random_state = 0).reset_index(drop = True)\n",
    "val_path_df['image_type'] = val_path_df['path'].apply(lambda x: natural_img_dir(x))\n",
    "all_val_paths = val_path_df['path'].tolist()"
   ]
  },
  {
   "cell_type": "code",
   "execution_count": 60,
   "metadata": {},
   "outputs": [
    {
     "name": "stdout",
     "output_type": "stream",
     "text": [
      "Distribution of Image Types in Validation Set\n",
      "fruit     202\n",
      "cat       182\n",
      "flower    175\n",
      "person    170\n",
      "dog       155\n",
      "teeth      89\n",
      "Name: image_type, dtype: int64\n"
     ]
    }
   ],
   "source": [
    "print('Distribution of Image Types in Validation Set')\n",
    "print(val_path_df['image_type'].value_counts())"
   ]
  },
  {
   "cell_type": "code",
   "execution_count": 67,
   "metadata": {},
   "outputs": [],
   "source": [
    "# prepare images for resnet50\n",
    "image_size = 224\n",
    "\n",
    "def read_and_prep_images(img_paths, img_height=image_size, img_width=image_size):\n",
    "    imgs = [load_img(img_path, target_size=(img_height, img_width)) for img_path in img_paths]\n",
    "    img_array = np.array([img_to_array(img) for img in imgs])\n",
    "    #output = img_array\n",
    "    output = preprocess_input(img_array)\n",
    "    return(output)\n",
    "\n",
    "X_train = read_and_prep_images(train_img_paths)\n",
    "X_test = read_and_prep_images(all_test_paths)\n",
    "X_val = read_and_prep_images(all_val_paths)"
   ]
  },
  {
   "cell_type": "code",
   "execution_count": 75,
   "metadata": {},
   "outputs": [],
   "source": [
    "# get features from resnet50 \n",
    "\n",
    "resnet_weights_path = './resnet50_weights_tf_dim_ordering_tf_kernels_notop.h5'\n",
    "\n",
    "# X : images numpy array\n",
    "resnet_model = ResNet50(input_shape=(image_size, image_size, 3), weights='./resnet50.h5', include_top=False, pooling='avg')  # Since top layer is the fc layer used for predictions\n",
    "\n",
    "X_train = resnet_model.predict(X_train)\n",
    "X_test = resnet_model.predict(X_test)\n",
    "X_val = resnet_model.predict(X_val)"
   ]
  },
  {
   "cell_type": "code",
   "execution_count": 77,
   "metadata": {},
   "outputs": [
    {
     "name": "stdout",
     "output_type": "stream",
     "text": [
      "Explained variance percentage = 0.95\n"
     ]
    }
   ],
   "source": [
    "# Apply standard scaler to output from resnet50\n",
    "ss = StandardScaler()\n",
    "ss.fit(X_train)\n",
    "X_train = ss.transform(X_train)\n",
    "X_test = ss.transform(X_test)\n",
    "X_val = ss.transform(X_val)\n",
    "\n",
    "# Take PCA to reduce feature space dimensionality\n",
    "pca = PCA(n_components=120, whiten=True)\n",
    "pca = pca.fit(X_train)\n",
    "print('Explained variance percentage = %0.2f' % sum(pca.explained_variance_ratio_))\n",
    "X_train = pca.transform(X_train)\n",
    "X_test = pca.transform(X_test)\n",
    "X_val = pca.transform(X_val)"
   ]
  },
  {
   "cell_type": "code",
   "execution_count": 78,
   "metadata": {},
   "outputs": [],
   "source": [
    "# Train classifier and obtain predictions for OC-SVM\n",
    "oc_svm_clf = svm.OneClassSVM(gamma=0.001, kernel='rbf', nu=0.08)  # Obtained using grid search\n",
    "if_clf = IsolationForest(contamination=0.08, max_features=1.0, max_samples=1.0, n_estimators=40)  # Obtained using grid search\n",
    "\n",
    "oc_svm_clf.fit(X_train)\n",
    "if_clf.fit(X_train)\n",
    "\n",
    "oc_svm_preds = oc_svm_clf.predict(X_test)\n",
    "if_preds = if_clf.predict(X_test)\n"
   ]
  },
  {
   "cell_type": "code",
   "execution_count": 92,
   "metadata": {},
   "outputs": [
    {
     "data": {
      "text/html": [
       "<div>\n",
       "<style scoped>\n",
       "    .dataframe tbody tr th:only-of-type {\n",
       "        vertical-align: middle;\n",
       "    }\n",
       "\n",
       "    .dataframe tbody tr th {\n",
       "        vertical-align: top;\n",
       "    }\n",
       "\n",
       "    .dataframe thead th {\n",
       "        text-align: right;\n",
       "    }\n",
       "</style>\n",
       "<table border=\"1\" class=\"dataframe\">\n",
       "  <thead>\n",
       "    <tr style=\"text-align: right;\">\n",
       "      <th></th>\n",
       "      <th>path</th>\n",
       "      <th>oc_svm_preds</th>\n",
       "      <th>if_preds</th>\n",
       "      <th>is_teeth</th>\n",
       "      <th>image_type</th>\n",
       "    </tr>\n",
       "  </thead>\n",
       "  <tbody>\n",
       "    <tr>\n",
       "      <th>7</th>\n",
       "      <td>../../dataset/archive/natural_images/teeth/000...</td>\n",
       "      <td>1</td>\n",
       "      <td>1</td>\n",
       "      <td>1</td>\n",
       "      <td>teeth</td>\n",
       "    </tr>\n",
       "    <tr>\n",
       "      <th>8</th>\n",
       "      <td>../../dataset/archive/natural_images/teeth/000...</td>\n",
       "      <td>1</td>\n",
       "      <td>1</td>\n",
       "      <td>1</td>\n",
       "      <td>teeth</td>\n",
       "    </tr>\n",
       "    <tr>\n",
       "      <th>9</th>\n",
       "      <td>../../dataset/archive/natural_images/teeth/000...</td>\n",
       "      <td>1</td>\n",
       "      <td>1</td>\n",
       "      <td>1</td>\n",
       "      <td>teeth</td>\n",
       "    </tr>\n",
       "    <tr>\n",
       "      <th>10</th>\n",
       "      <td>../../dataset/archive/natural_images/teeth/000...</td>\n",
       "      <td>1</td>\n",
       "      <td>1</td>\n",
       "      <td>1</td>\n",
       "      <td>teeth</td>\n",
       "    </tr>\n",
       "    <tr>\n",
       "      <th>11</th>\n",
       "      <td>../../dataset/archive/natural_images/teeth/000...</td>\n",
       "      <td>1</td>\n",
       "      <td>1</td>\n",
       "      <td>1</td>\n",
       "      <td>teeth</td>\n",
       "    </tr>\n",
       "    <tr>\n",
       "      <th>...</th>\n",
       "      <td>...</td>\n",
       "      <td>...</td>\n",
       "      <td>...</td>\n",
       "      <td>...</td>\n",
       "      <td>...</td>\n",
       "    </tr>\n",
       "    <tr>\n",
       "      <th>4366</th>\n",
       "      <td>../../dataset/archive/natural_images/teeth/000...</td>\n",
       "      <td>1</td>\n",
       "      <td>1</td>\n",
       "      <td>1</td>\n",
       "      <td>teeth</td>\n",
       "    </tr>\n",
       "    <tr>\n",
       "      <th>4367</th>\n",
       "      <td>../../dataset/archive/natural_images/teeth/000...</td>\n",
       "      <td>1</td>\n",
       "      <td>1</td>\n",
       "      <td>1</td>\n",
       "      <td>teeth</td>\n",
       "    </tr>\n",
       "    <tr>\n",
       "      <th>4397</th>\n",
       "      <td>../../dataset/archive/natural_images/teeth/003...</td>\n",
       "      <td>1</td>\n",
       "      <td>1</td>\n",
       "      <td>1</td>\n",
       "      <td>teeth</td>\n",
       "    </tr>\n",
       "    <tr>\n",
       "      <th>4451</th>\n",
       "      <td>../../dataset/archive/natural_images/teeth/Pho...</td>\n",
       "      <td>1</td>\n",
       "      <td>1</td>\n",
       "      <td>1</td>\n",
       "      <td>teeth</td>\n",
       "    </tr>\n",
       "    <tr>\n",
       "      <th>4731</th>\n",
       "      <td>../../dataset/archive/natural_images/teeth/Ima...</td>\n",
       "      <td>1</td>\n",
       "      <td>1</td>\n",
       "      <td>1</td>\n",
       "      <td>teeth</td>\n",
       "    </tr>\n",
       "  </tbody>\n",
       "</table>\n",
       "<p>1259 rows × 5 columns</p>\n",
       "</div>"
      ],
      "text/plain": [
       "                                                   path  oc_svm_preds  \\\n",
       "7     ../../dataset/archive/natural_images/teeth/000...             1   \n",
       "8     ../../dataset/archive/natural_images/teeth/000...             1   \n",
       "9     ../../dataset/archive/natural_images/teeth/000...             1   \n",
       "10    ../../dataset/archive/natural_images/teeth/000...             1   \n",
       "11    ../../dataset/archive/natural_images/teeth/000...             1   \n",
       "...                                                 ...           ...   \n",
       "4366  ../../dataset/archive/natural_images/teeth/000...             1   \n",
       "4367  ../../dataset/archive/natural_images/teeth/000...             1   \n",
       "4397  ../../dataset/archive/natural_images/teeth/003...             1   \n",
       "4451  ../../dataset/archive/natural_images/teeth/Pho...             1   \n",
       "4731  ../../dataset/archive/natural_images/teeth/Ima...             1   \n",
       "\n",
       "      if_preds  is_teeth image_type  \n",
       "7            1         1      teeth  \n",
       "8            1         1      teeth  \n",
       "9            1         1      teeth  \n",
       "10           1         1      teeth  \n",
       "11           1         1      teeth  \n",
       "...        ...       ...        ...  \n",
       "4366         1         1      teeth  \n",
       "4367         1         1      teeth  \n",
       "4397         1         1      teeth  \n",
       "4451         1         1      teeth  \n",
       "4731         1         1      teeth  \n",
       "\n",
       "[1259 rows x 5 columns]"
      ]
     },
     "execution_count": 92,
     "metadata": {},
     "output_type": "execute_result"
    }
   ],
   "source": [
    "# svm_if_results=pd.DataFrame({\n",
    "#   'path': all_test_paths,\n",
    "#   'oc_svm_preds': [0 if x == -1 else 1 for x in oc_svm_preds],\n",
    "#   'if_preds': [0 if x == -1 else 1 for x in if_preds]\n",
    "# })\n",
    "\n",
    "\n",
    "svm_if_results=svm_if_results.merge(test_path_df)\n",
    "svm_if_results[svm_if_results.is_teeth == 1]\n"
   ]
  },
  {
   "cell_type": "code",
   "execution_count": 85,
   "metadata": {},
   "outputs": [
    {
     "name": "stdout",
     "output_type": "stream",
     "text": [
      "roc auc score: if_preds\n",
      "0.8837713356813872\n",
      "              precision    recall  f1-score   support\n",
      "\n",
      "           0       1.00      0.77      0.87      3691\n",
      "           1       0.16      1.00      0.28       167\n",
      "\n",
      "    accuracy                           0.78      3858\n",
      "   macro avg       0.58      0.88      0.57      3858\n",
      "weighted avg       0.96      0.78      0.84      3858\n",
      "\n"
     ]
    },
    {
     "data": {
      "image/png": "[encoded data removed]",
      "text/plain": [
       "<Figure size 432x288 with 2 Axes>"
      ]
     },
     "metadata": {
      "needs_background": "light"
     },
     "output_type": "display_data"
    }
   ],
   "source": [
    "print('roc auc score: if_preds')\n",
    "if_preds=svm_if_results['if_preds']\n",
    "actual=svm_if_results['is_teeth']\n",
    "print(roc_auc_score(actual, if_preds))\n",
    "print(classification_report(actual, if_preds))\n",
    "sns.heatmap(confusion_matrix(actual, if_preds),annot=True,fmt='2.0f')\n",
    "plt.show()"
   ]
  },
  {
   "cell_type": "code",
   "execution_count": 86,
   "metadata": {},
   "outputs": [
    {
     "data": {
      "text/plain": [
       "['if_clf.sav']"
      ]
     },
     "execution_count": 86,
     "metadata": {},
     "output_type": "execute_result"
    }
   ],
   "source": [
    "import joblib\n",
    "filename_svm = 'oc_svm_preds.sav'\n",
    "filename_clf = 'if_clf.sav'\n",
    "\n",
    "joblib.dump(oc_svm_clf, filename_svm)\n",
    "joblib.dump(if_clf, filename_clf)"
   ]
  },
  {
   "cell_type": "code",
   "execution_count": null,
   "metadata": {},
   "outputs": [],
   "source": []
  }
 ],
 "metadata": {
  "kernelspec": {
   "display_name": "Python 3",
   "language": "python",
   "name": "python3"
  },
  "language_info": {
   "codemirror_mode": {
    "name": "ipython",
    "version": 3
   },
   "file_extension": ".py",
   "mimetype": "text/x-python",
   "name": "python",
   "nbconvert_exporter": "python",
   "pygments_lexer": "ipython3",
   "version": "3.8.3"
  }
 },
 "nbformat": 4,
 "nbformat_minor": 4
}
